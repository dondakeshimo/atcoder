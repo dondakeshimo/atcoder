{
 "cells": [
  {
   "cell_type": "code",
   "execution_count": 2,
   "metadata": {},
   "outputs": [
    {
     "name": "stdout",
     "output_type": "stream",
     "text": [
      "2 3 3\n",
      "3\n"
     ]
    }
   ],
   "source": [
    "a, b, _ = map(int, input().split())\n",
    "print(int(a * b / 2))"
   ]
  },
  {
   "cell_type": "code",
   "execution_count": 8,
   "metadata": {
    "collapsed": true
   },
   "outputs": [],
   "source": [
    "def odd_func(n):\n",
    "    return int(3 * n + 1)"
   ]
  },
  {
   "cell_type": "code",
   "execution_count": 9,
   "metadata": {
    "collapsed": true
   },
   "outputs": [],
   "source": [
    "def even_func(n):\n",
    "    return int(n / 2)"
   ]
  },
  {
   "cell_type": "code",
   "execution_count": 17,
   "metadata": {},
   "outputs": [
    {
     "name": "stdout",
     "output_type": "stream",
     "text": [
      "8\n",
      "4\n",
      "2\n",
      "1\n",
      "4\n",
      "5\n"
     ]
    }
   ],
   "source": [
    "s = int(input())\n",
    "a = [s]\n",
    "\n",
    "counter = 2\n",
    "while True:\n",
    "    if a[-1] % 2 == 0:\n",
    "        temp = int(a[-1] / 2)\n",
    "    else:\n",
    "        temp = int(3 * a[-1] + 1)\n",
    "        \n",
    "    print(temp)\n",
    "    \n",
    "    if temp in a:\n",
    "        break\n",
    "        \n",
    "    counter += 1\n",
    "    a.append(temp)\n",
    "    \n",
    "print(counter)"
   ]
  },
  {
   "cell_type": "code",
   "execution_count": 14,
   "metadata": {},
   "outputs": [
    {
     "ename": "AttributeError",
     "evalue": "'list' object has no attribute 'add'",
     "output_type": "error",
     "traceback": [
      "\u001b[0;31m---------------------------------------------------------------------------\u001b[0m",
      "\u001b[0;31mAttributeError\u001b[0m                            Traceback (most recent call last)",
      "\u001b[0;32m<ipython-input-14-46e96c9c7506>\u001b[0m in \u001b[0;36m<module>\u001b[0;34m()\u001b[0m\n\u001b[0;32m----> 1\u001b[0;31m \u001b[0ma\u001b[0m\u001b[0;34m.\u001b[0m\u001b[0madd\u001b[0m\u001b[0;34m(\u001b[0m\u001b[0;36m1\u001b[0m\u001b[0;34m)\u001b[0m\u001b[0;34m\u001b[0m\u001b[0m\n\u001b[0m",
      "\u001b[0;31mAttributeError\u001b[0m: 'list' object has no attribute 'add'"
     ]
    }
   ],
   "source": [
    "a.add(1)"
   ]
  },
  {
   "cell_type": "code",
   "execution_count": 29,
   "metadata": {},
   "outputs": [
    {
     "name": "stdout",
     "output_type": "stream",
     "text": [
      "4\n",
      "1 2 2 1\n",
      "[2]\n",
      "[2, 2]\n",
      "[]\n",
      "4\n"
     ]
    }
   ],
   "source": [
    "n = int(input())\n",
    "h = list(map(int, input().split()))\n",
    "\n",
    "pre = 0\n",
    "high = []\n",
    "low = []\n",
    "for i in range(len(h) - 1):\n",
    "    if h[i] <= h[i + 1]:\n",
    "        continue\n",
    "    else:\n",
    "        h = h[i:-1]\n",
    "        break\n",
    "        \n",
    "for i in range(len(h) - 1):\n",
    "    if h[len(h) - i - 1] <= h[len(h) - i - 2]:\n",
    "        continue\n",
    "    else:\n",
    "        h = h[0:n - i + 1]\n",
    "        break\n",
    "        \n",
    "pre = -1\n",
    "high.append(h[0])\n",
    "high.append(h[-1])\n",
    "for i in range(len(h) - 1):\n",
    "    if h[i + 1] < h[i] and pre == 1:\n",
    "        high.append(h[i])\n",
    "        pre = -1\n",
    "    elif h[i + 1] > h[i] and pre == -1:\n",
    "        low.append(h[i])\n",
    "        pre = 1\n",
    "    \n",
    "\n",
    "print(h)\n",
    "print(high)\n",
    "print(low)\n",
    "print(sum(high) - sum(low))"
   ]
  },
  {
   "cell_type": "code",
   "execution_count": null,
   "metadata": {
    "collapsed": true
   },
   "outputs": [],
   "source": []
  }
 ],
 "metadata": {
  "kernelspec": {
   "display_name": "Python 3",
   "language": "python",
   "name": "python3"
  },
  "language_info": {
   "codemirror_mode": {
    "name": "ipython",
    "version": 3
   },
   "file_extension": ".py",
   "mimetype": "text/x-python",
   "name": "python",
   "nbconvert_exporter": "python",
   "pygments_lexer": "ipython3",
   "version": "3.6.6"
  }
 },
 "nbformat": 4,
 "nbformat_minor": 2
}
