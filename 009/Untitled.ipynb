{
 "cells": [
  {
   "cell_type": "code",
   "execution_count": 34,
   "metadata": {},
   "outputs": [
    {
     "name": "stdout",
     "output_type": "stream",
     "text": [
      "4 1\n",
      "faes\n"
     ]
    }
   ],
   "source": [
    "n, k = (int(i) for i in input().split())\n",
    "s = input()"
   ]
  },
  {
   "cell_type": "code",
   "execution_count": 35,
   "metadata": {},
   "outputs": [
    {
     "name": "stdout",
     "output_type": "stream",
     "text": [
      "faes\n"
     ]
    }
   ],
   "source": [
    "sorted_s = sorted(s)\n",
    "t = \"\"\n",
    "for i in range(n):\n",
    "    cost = calc_cost_left(t + sorted_s[i], s[:i + 1]) + \\\n",
    "           calc_cost_right(sorted_s[i + 1:], s[i + 1:])\n",
    "    if cost <= k:\n",
    "        t += sorted_s[i]\n",
    "    else:\n",
    "        break\n",
    "\n",
    "if i is not n - 1:\n",
    "    rest_sorted_s = sorted_s[i:]\n",
    "    rest_s = s[i:]\n",
    "    rest_t = \"*\" * len(rest_s)\n",
    "\n",
    "    for j in range(len(rest_s)):\n",
    "        for rss in rest_sorted_s:\n",
    "            if rss is rest_s[j]:\n",
    "                rest_t = rest_t[:j] + rss + rest_t[j + 1:]\n",
    "                rest_sorted_s.remove(rss)\n",
    "                break\n",
    "\n",
    "    for rss in rest_sorted_s:\n",
    "        rest_t = rest_t.replace(\"*\", rss, 1)\n",
    "        \n",
    "    t += rest_t\n",
    "    \n",
    "print(t)"
   ]
  },
  {
   "cell_type": "code",
   "execution_count": 2,
   "metadata": {},
   "outputs": [],
   "source": [
    "def calc_cost_left(s1, s2):\n",
    "    cost = 0\n",
    "    for i in range(len(s1)):\n",
    "        if s1[i] is not s2[i]:\n",
    "            cost += 1\n",
    "            \n",
    "    return cost"
   ]
  },
  {
   "cell_type": "code",
   "execution_count": 3,
   "metadata": {
    "collapsed": true
   },
   "outputs": [],
   "source": [
    "def calc_cost_right(s1, s2):\n",
    "    alphabet = \"abcdefghijklmnopqrstuvwxyz\"\n",
    "    cost = len(s1)\n",
    "    for alp in alphabet:\n",
    "        cost -= min(s1.count(alp), s2.count(alp))\n",
    "    \n",
    "    return cost"
   ]
  },
  {
   "cell_type": "code",
   "execution_count": null,
   "metadata": {
    "collapsed": true
   },
   "outputs": [],
   "source": []
  }
 ],
 "metadata": {
  "kernelspec": {
   "display_name": "Python 3",
   "language": "python",
   "name": "python3"
  },
  "language_info": {
   "codemirror_mode": {
    "name": "ipython",
    "version": 3
   },
   "file_extension": ".py",
   "mimetype": "text/x-python",
   "name": "python",
   "nbconvert_exporter": "python",
   "pygments_lexer": "ipython3",
   "version": "3.6.6"
  }
 },
 "nbformat": 4,
 "nbformat_minor": 2
}
